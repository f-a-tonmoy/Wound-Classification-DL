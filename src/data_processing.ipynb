{
 "cells": [
  {
   "cell_type": "code",
   "execution_count": 8,
   "metadata": {},
   "outputs": [],
   "source": [
    "import os\n",
    "from PIL import Image\n",
    "import random\n",
    "import cv2\n",
    "import numpy as np\n",
    "from tqdm import tqdm"
   ]
  },
  {
   "cell_type": "code",
   "execution_count": 9,
   "metadata": {},
   "outputs": [
    {
     "name": "stdout",
     "output_type": "stream",
     "text": [
      "Directory already exists: E:\\Projects\\Wound-Classification-DL\\data\\processed\n"
     ]
    }
   ],
   "source": [
    "processed_dir = r'E:\\Projects\\Wound-Classification-DL\\data\\processed'\n",
    "\n",
    "if not os.path.exists(processed_dir):\n",
    "    os.makedirs(processed_dir)\n",
    "    print(f'Directory created: {processed_dir}')\n",
    "else:\n",
    "    print(f'Directory already exists: {processed_dir}')"
   ]
  },
  {
   "cell_type": "code",
   "execution_count": 10,
   "metadata": {},
   "outputs": [],
   "source": [
    "target_size = (128, 128)\n",
    "\n",
    "dataset_path = r'E:\\Projects\\Wound-Classification-DL\\data\\Categorized Wound Images Dataset'\n",
    "folders = [folder for folder in os.listdir(dataset_path) if os.path.isdir(os.path.join(dataset_path, folder))]\n",
    "\n",
    "for folder in folders:\n",
    "    folder_path = os.path.join(dataset_path, folder)\n",
    "    output_folder = os.path.join(processed_dir, folder)\n",
    "    \n",
    "    if not os.path.exists(output_folder):\n",
    "        os.makedirs(output_folder)\n",
    "    \n",
    "    for file in os.listdir(folder_path):\n",
    "        input_path = os.path.join(folder_path, file)\n",
    "        output_path = os.path.join(output_folder, file)\n",
    "        \n",
    "        try:\n",
    "            with Image.open(input_path) as img:\n",
    "                resized_img = img.resize(target_size)\n",
    "                resized_img.save(output_path)\n",
    "        except Exception as e:\n",
    "            print(f'Error processing {input_path}: {e}')"
   ]
  },
  {
   "cell_type": "code",
   "execution_count": 11,
   "metadata": {},
   "outputs": [
    {
     "name": "stderr",
     "output_type": "stream",
     "text": [
      "100%|██████████| 10/10 [00:31<00:00,  3.19s/it]\n"
     ]
    }
   ],
   "source": [
    "def augment_image(img):\n",
    "    transformations = [\n",
    "        lambda x: cv2.rotate(x, cv2.ROTATE_90_CLOCKWISE),\n",
    "        lambda x: cv2.flip(x, 1),\n",
    "        lambda x: cv2.GaussianBlur(x, (5, 5), 0),\n",
    "        lambda x: cv2.cvtColor(x, cv2.COLOR_BGR2HSV),\n",
    "        lambda x: shift_image(x, shift_x=10, shift_y=10),\n",
    "    ]\n",
    "    transform = random.choice(transformations)\n",
    "    augmented = transform(img)\n",
    "    if len(augmented.shape) == 3 and augmented.shape[2] == 3:\n",
    "        return augmented\n",
    "    else:\n",
    "        return img\n",
    "\n",
    "def shift_image(img, shift_x, shift_y):\n",
    "    rows, cols, _ = img.shape\n",
    "    M = np.float32([[1, 0, shift_x], [0, 1, shift_y]])\n",
    "    shifted = cv2.warpAffine(img, M, (cols, rows), borderMode=cv2.BORDER_REFLECT_101)\n",
    "    return shifted\n",
    "\n",
    "def balance_dataset(input_dir, output_dir, target_size):\n",
    "    if not os.path.exists(output_dir):\n",
    "        os.makedirs(output_dir)\n",
    "    \n",
    "    for folder in tqdm(os.listdir(input_dir)):\n",
    "        folder_path = os.path.join(input_dir, folder)\n",
    "        output_folder = os.path.join(output_dir, folder)\n",
    "        if not os.path.exists(output_folder):\n",
    "            os.makedirs(output_folder)\n",
    "        \n",
    "        images = os.listdir(folder_path)\n",
    "        num_images = len(images)\n",
    "        \n",
    "        for img in images:\n",
    "            input_path = os.path.join(folder_path, img)\n",
    "            output_path = os.path.join(output_folder, img)\n",
    "            image = cv2.imread(input_path)\n",
    "            cv2.imwrite(output_path, image)\n",
    "        \n",
    "        while len(os.listdir(output_folder)) < target_size:\n",
    "            img = random.choice(images)\n",
    "            input_path = os.path.join(folder_path, img)\n",
    "            image = cv2.imread(input_path)\n",
    "            augmented_image = augment_image(image)\n",
    "            output_path = os.path.join(output_folder, f'aug_{random.randint(10000, 99999)}.jpg')\n",
    "            cv2.imwrite(output_path, augmented_image)\n",
    "\n",
    "input_dir = r'E:\\Projects\\Wound-Classification-DL\\data\\processed'\n",
    "output_dir = r'E:\\Projects\\Wound-Classification-DL\\data\\balanced'\n",
    "target_size = 1000\n",
    "\n",
    "balance_dataset(input_dir, output_dir, target_size)"
   ]
  }
 ],
 "metadata": {
  "kernelspec": {
   "display_name": "Python 3",
   "language": "python",
   "name": "python3"
  },
  "language_info": {
   "codemirror_mode": {
    "name": "ipython",
    "version": 3
   },
   "file_extension": ".py",
   "mimetype": "text/x-python",
   "name": "python",
   "nbconvert_exporter": "python",
   "pygments_lexer": "ipython3",
   "version": "3.9.11"
  }
 },
 "nbformat": 4,
 "nbformat_minor": 2
}
